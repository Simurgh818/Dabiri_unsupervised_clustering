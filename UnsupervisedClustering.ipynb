{
 "cells": [
  {
   "cell_type": "markdown",
   "id": "bc4bc3c1",
   "metadata": {},
   "source": [
    "# Unsupervised Clustering on a heart failiur dataset: a BMI500 class project\n",
    "\n",
    "### Sina Dabiri\n",
    "### sdabiri@emory.edu\n",
    "\n",
    "#### Version 1.0"
   ]
  },
  {
   "cell_type": "code",
   "execution_count": null,
   "id": "9c553998",
   "metadata": {},
   "outputs": [],
   "source": [
    "import numpy as np\n",
    "import pandas as pd\n",
    "import matplotlib.pyplot as plt"
   ]
  },
  {
   "cell_type": "code",
   "execution_count": null,
   "id": "510f3036",
   "metadata": {},
   "outputs": [],
   "source": [
    "# For this clustering project, the scikit learn PCA is going to be used from the decomposition library.\n",
    "from sklearn import decomposition"
   ]
  },
  {
   "cell_type": "code",
   "execution_count": null,
   "id": "6b860860",
   "metadata": {},
   "outputs": [],
   "source": [
    "\"\"\"\n",
    "The heart dataset's CSV has been put in the project folder. The source of this dataset is: \n",
    "\n",
    "Dataset from Davide Chicco, Giuseppe Jurman: Machine learning can predict survival of patients with heart failure \n",
    "                                             from serum creatinine and ejection fraction alone. BMC Medical Informatics and Decision Making 20, 16 (2020)\n",
    "\"\"\" \n",
    "heart_df = pd.read_csv(\"heart_failure_clinical_records_dataset.csv\")\n",
    "heart_df"
   ]
  },
  {
   "cell_type": "markdown",
   "id": "74b0c9aa",
   "metadata": {},
   "source": [
    "## Divide the dataset into it's features and it's true label, X and Y."
   ]
  },
  {
   "cell_type": "code",
   "execution_count": null,
   "id": "3ae7e3cc",
   "metadata": {},
   "outputs": [],
   "source": [
    "# Setting the X feature and inspecting it\n",
    "X = heart_df[['age', 'anaemia', 'creatinine_phosphokinase', 'diabetes',\n",
    "       'ejection_fraction', 'high_blood_pressure', 'platelets',\n",
    "       'serum_creatinine', 'serum_sodium', 'sex', 'smoking', 'time']]\n",
    "X"
   ]
  },
  {
   "cell_type": "code",
   "execution_count": null,
   "id": "a84e1dfb",
   "metadata": {},
   "outputs": [],
   "source": [
    "# Setting the true label Y vector\n",
    "Y =  heart_df['DEATH_EVENT']\n",
    "Y\n"
   ]
  },
  {
   "cell_type": "code",
   "execution_count": null,
   "id": "f19fbef6",
   "metadata": {},
   "outputs": [],
   "source": [
    "# Principal Component Analysis (PCA): dimentionally reducing the data to two principal components that discribe most of the variation. Fitting the X dataframe using PCA.\n",
    "pca = decomposition.PCA(n_components=2)\n",
    "pca.fit(X)"
   ]
  },
  {
   "cell_type": "code",
   "execution_count": null,
   "id": "2de4bb6d",
   "metadata": {},
   "outputs": [],
   "source": [
    "# Printing out the two highest variances.\n",
    "print(pca.explained_variance_)\n"
   ]
  },
  {
   "cell_type": "code",
   "execution_count": null,
   "id": "17e4e619",
   "metadata": {},
   "outputs": [],
   "source": [
    "# Transforming the X dataframe to the coordinate of the two principal components (PC1, PC2).\n",
    "X_reduced = pca.fit_transform(X)\n",
    "X_reduced.shape"
   ]
  },
  {
   "cell_type": "code",
   "execution_count": null,
   "id": "67903a6e",
   "metadata": {},
   "outputs": [],
   "source": [
    "# Scatter plotting the two classes of Alive/Dead on the PC1 and PC2\n",
    "plt.figure(figsize=(10,5))\n",
    "colors = ['blue', 'turquoise']\n",
    "target_names = ['alive', 'dead']\n",
    "lw = 2\n",
    "for color, i, target_name in zip(colors, [0, 1], target_names):\n",
    "    plt.scatter(X_reduced[Y == i, 0], X_reduced[Y == i, 1], color=color, alpha=.8, lw=lw,\n",
    "                label=target_name)\n",
    "plt.legend(loc='best', shadow=False, scatterpoints=1)\n",
    "plt.xlabel('PC1')\n",
    "plt.ylabel('PC2')\n",
    "plt.title('PCA of Heart dataset');"
   ]
  },
  {
   "cell_type": "code",
   "execution_count": null,
   "id": "4ad14348",
   "metadata": {},
   "outputs": [],
   "source": []
  }
 ],
 "metadata": {
  "kernelspec": {
   "display_name": "Python 3",
   "language": "python",
   "name": "python3"
  },
  "language_info": {
   "codemirror_mode": {
    "name": "ipython",
    "version": 3
   },
   "file_extension": ".py",
   "mimetype": "text/x-python",
   "name": "python",
   "nbconvert_exporter": "python",
   "pygments_lexer": "ipython3",
   "version": "3.7.0"
  }
 },
 "nbformat": 4,
 "nbformat_minor": 5
}
